{
 "cells": [
  {
   "cell_type": "code",
   "execution_count": null,
   "metadata": {},
   "outputs": [],
   "source": [
    "pip install tensorflow"
   ]
  },
  {
   "cell_type": "code",
   "execution_count": null,
   "metadata": {},
   "outputs": [],
   "source": [
    "import numpy as np\n",
    "from sklearn.model_selection import train_test_split\n",
    "from sklearn.metrics import classification_report, confusion_matrix, roc_auc_score\n",
    "from tensorflow.keras.models import Sequential\n",
    "from tensorflow.keras.layers import Dense"
   ]
  },
  {
   "cell_type": "code",
   "execution_count": null,
   "metadata": {},
   "outputs": [],
   "source": [
    "import pandas as pd\n",
    "# Load the first dataset\n",
    "separable_dataset_path = \"A2-ring-separable.txt\"\n",
    "\n",
    "# Load the first dataset with correct separator\n",
    "separable_dataset = pd.read_csv(separable_dataset_path, sep=\"\\t\", header=None)\n",
    "\n",
    "# Show the first few rows\n",
    "separable_dataset.head()\n",
    "# Load the second dataset\n",
    "merged_dataset_path = \"A2-ring-merged.txt\"\n",
    "merged_dataset = pd.read_csv(merged_dataset_path, sep=\"\\t\", header=None)\n",
    "\n",
    "# Load the test dataset\n",
    "test_dataset_path = \"A2-ring-test.txt\"\n",
    "test_dataset = pd.read_csv(test_dataset_path, sep=\"\\t\", header=None)"
   ]
  },
  {
   "cell_type": "code",
   "execution_count": null,
   "metadata": {},
   "outputs": [],
   "source": [
    "# Load the datasets\n",
    "X_mer, y_mer = load_data(\"A2-ring-merged.txt\")\n",
    "X_sep, y_sep = load_data(\"A2-ring-separable.txt\")\n",
    "X_test, y_test = load_data(\"A2-ring-test.txt\")"
   ]
  },
  {
   "cell_type": "code",
   "execution_count": null,
   "metadata": {},
   "outputs": [],
   "source": [
    "# Load data\n",
    "def load_data(file_path):\n",
    "    data = np.loadtxt(file_path)\n",
    "    X, y = data[:, :-1], data[:, -1]\n",
    "    return X, y\n",
    "\n",
    "# Load the separable dataset\n",
    "X_sep, y_sep = load_data(\"A2-ring-separable.txt\")\n",
    "\n",
    "# Split the data into training and validation sets for the separable dataset\n",
    "X_train_sep, X_val_sep, y_train_sep, y_val_sep = train_test_split(X_sep, y_sep, test_size=0.2, random_state=42)\n",
    "# Split the data into training and test sets for merged dataset\n",
    "X_train_mer, X_val_mer, y_train_mer, y_val_mer = train_test_split(X_mer, y_mer, test_size=0.2, random_state=42)\n",
    "\n",
    "# Function to apply back-propagation\n",
    "def apply_bp(X_train, y_train, X_val, y_val):\n",
    "    # Create a neural network model\n",
    "    model = Sequential()\n",
    "    model.add(Dense(10, input_dim=X_train.shape[1], activation='relu'))  # hidden layer\n",
    "    model.add(Dense(1, activation='sigmoid'))  # output layer\n",
    "\n",
    "    # Compile the model\n",
    "    model.compile(loss='binary_crossentropy', optimizer='adam', metrics=['accuracy'])\n",
    "\n",
    "    # Train the model\n",
    "    model.fit(X_train, y_train, epochs=100, verbose=0)\n",
    "\n",
    "    # Evaluate the model on the validation set\n",
    "    _, accuracy = model.evaluate(X_val, y_val, verbose=0)\n",
    "    print(\"Accuracy: \", accuracy)\n",
    "\n",
    "    # Predict the classes\n",
    "    y_pred = (model.predict(X_val) > 0.5).astype(\"int32\")\n",
    "\n",
    "    print(\"Classification report:\")\n",
    "    print(classification_report(y_val, y_pred))\n",
    "    print(\"Confusion matrix:\")\n",
    "    print(confusion_matrix(y_val, y_pred))\n",
    "    print(\"ROC AUC Score: \", roc_auc_score(y_val, y_pred))\n",
    "\n",
    "    return model"
   ]
  },
  {
   "cell_type": "code",
   "execution_count": null,
   "metadata": {},
   "outputs": [],
   "source": [
    "# Apply BP to separable dataset\n",
    "print(\"\\nSeparable Dataset\")\n",
    "bp_sep = apply_bp(X_train_sep, y_train_sep, X_val_sep, y_val_sep)"
   ]
  },
  {
   "cell_type": "code",
   "execution_count": null,
   "metadata": {},
   "outputs": [],
   "source": [
    "# Apply BP to merged dataset\n",
    "print(\"Merged Dataset\")\n",
    "bp_mer = apply_bp(X_train_mer, y_train_mer, X_val_mer, y_val_mer)"
   ]
  },
  {
   "cell_type": "code",
   "execution_count": null,
   "metadata": {},
   "outputs": [],
   "source": []
  },
  {
   "cell_type": "code",
   "execution_count": null,
   "metadata": {},
   "outputs": [],
   "source": []
  }
 ],
 "metadata": {
  "language_info": {
   "name": "python"
  }
 },
 "nbformat": 4,
 "nbformat_minor": 2
}
